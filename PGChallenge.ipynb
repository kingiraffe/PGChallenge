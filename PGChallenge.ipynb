{
  "nbformat": 4,
  "nbformat_minor": 0,
  "metadata": {
    "kernelspec": {
      "display_name": "Python 3",
      "language": "python",
      "name": "python3"
    },
    "language_info": {
      "codemirror_mode": {
        "name": "ipython",
        "version": 3
      },
      "file_extension": ".py",
      "mimetype": "text/x-python",
      "name": "python",
      "nbconvert_exporter": "python",
      "pygments_lexer": "ipython3",
      "version": "3.7.4"
    },
    "colab": {
      "name": "PGChallenge.ipynb",
      "provenance": [],
      "collapsed_sections": []
    }
  },
  "cells": [
    {
      "cell_type": "markdown",
      "metadata": {
        "id": "1aOfSXil4sZc",
        "colab_type": "text"
      },
      "source": [
        "# P&G CEO Challenge 1st round\n",
        "\n",
        "This project is our implementation of the idea for a competition, although it was really a pity failing to break into semi-round, it has been really an honor to work with the brilliant teammates. Due to the lack of data support, we choose to use a public dataset similar to the data we expected, turn the blueprint into reality and draw a conclusion to this journey:)\n",
        "Due to the rules of the competition, we will not disclose any details of our slides, but only try to illustrate the feasibility and some important results, the dataset contains all the transactions occurring for a UK-based and registered, non-store online retail between 01/12/2009 and 09/12/2011.  http://archive.ics.uci.edu/ml/datasets/Online+Retail+II "
      ]
    },
    {
      "cell_type": "markdown",
      "metadata": {
        "id": "TIQzt7vI4sZe",
        "colab_type": "text"
      },
      "source": [
        "## Environment Setup"
      ]
    },
    {
      "cell_type": "code",
      "metadata": {
        "id": "Xx1bLjTY4sZf",
        "colab_type": "code",
        "colab": {}
      },
      "source": [
        "import pandas as pd\n",
        "import numpy as np\n",
        "import matplotlib.pyplot as plt"
      ],
      "execution_count": 0,
      "outputs": []
    },
    {
      "cell_type": "markdown",
      "metadata": {
        "id": "QeWachaQ4sZl",
        "colab_type": "text"
      },
      "source": [
        "## Getting and Cleaning Data"
      ]
    },
    {
      "cell_type": "markdown",
      "metadata": {
        "id": "HJp1lS914sZm",
        "colab_type": "text"
      },
      "source": [
        "There are over 500k records, pretty large a dataframe."
      ]
    },
    {
      "cell_type": "code",
      "metadata": {
        "id": "VVSQ-CFC4sZm",
        "colab_type": "code",
        "colab": {},
        "outputId": "7fbe7551-74d2-42dd-f2cf-767b4ef27a0f"
      },
      "source": [
        "df = pd.read_csv('data.csv', encoding=\"ISO-8859-1\")\n",
        "df.shape"
      ],
      "execution_count": 0,
      "outputs": [
        {
          "output_type": "execute_result",
          "data": {
            "text/plain": [
              "(541909, 8)"
            ]
          },
          "metadata": {
            "tags": []
          },
          "execution_count": 2
        }
      ]
    },
    {
      "cell_type": "markdown",
      "metadata": {
        "id": "gafVM5Xx4sZs",
        "colab_type": "text"
      },
      "source": [
        "There are 8 attributes, \"InvoiceNo\", \"StockCode\", \"Description\", \"Quantity\", \"InvoiceDate\", \"UnitPrice\", \"CustomerID\" and \"Country\". Among them, InvoiceNo is a 6-digit integral number uniquely assigned to each transaction; StockCode is a 5-digit integral number uniquely assigned to each distinct product. "
      ]
    },
    {
      "cell_type": "code",
      "metadata": {
        "id": "bNUSU2Zs4sZs",
        "colab_type": "code",
        "colab": {},
        "outputId": "649cfb29-c47f-484f-90e2-51a0409c0156"
      },
      "source": [
        "df.head()"
      ],
      "execution_count": 0,
      "outputs": [
        {
          "output_type": "execute_result",
          "data": {
            "text/html": [
              "<div>\n",
              "<style scoped>\n",
              "    .dataframe tbody tr th:only-of-type {\n",
              "        vertical-align: middle;\n",
              "    }\n",
              "\n",
              "    .dataframe tbody tr th {\n",
              "        vertical-align: top;\n",
              "    }\n",
              "\n",
              "    .dataframe thead th {\n",
              "        text-align: right;\n",
              "    }\n",
              "</style>\n",
              "<table border=\"1\" class=\"dataframe\">\n",
              "  <thead>\n",
              "    <tr style=\"text-align: right;\">\n",
              "      <th></th>\n",
              "      <th>InvoiceNo</th>\n",
              "      <th>StockCode</th>\n",
              "      <th>Description</th>\n",
              "      <th>Quantity</th>\n",
              "      <th>InvoiceDate</th>\n",
              "      <th>UnitPrice</th>\n",
              "      <th>CustomerID</th>\n",
              "      <th>Country</th>\n",
              "    </tr>\n",
              "  </thead>\n",
              "  <tbody>\n",
              "    <tr>\n",
              "      <th>0</th>\n",
              "      <td>536365</td>\n",
              "      <td>85123A</td>\n",
              "      <td>WHITE HANGING HEART T-LIGHT HOLDER</td>\n",
              "      <td>6</td>\n",
              "      <td>12/1/2010 8:26</td>\n",
              "      <td>2.55</td>\n",
              "      <td>17850.0</td>\n",
              "      <td>United Kingdom</td>\n",
              "    </tr>\n",
              "    <tr>\n",
              "      <th>1</th>\n",
              "      <td>536365</td>\n",
              "      <td>71053</td>\n",
              "      <td>WHITE METAL LANTERN</td>\n",
              "      <td>6</td>\n",
              "      <td>12/1/2010 8:26</td>\n",
              "      <td>3.39</td>\n",
              "      <td>17850.0</td>\n",
              "      <td>United Kingdom</td>\n",
              "    </tr>\n",
              "    <tr>\n",
              "      <th>2</th>\n",
              "      <td>536365</td>\n",
              "      <td>84406B</td>\n",
              "      <td>CREAM CUPID HEARTS COAT HANGER</td>\n",
              "      <td>8</td>\n",
              "      <td>12/1/2010 8:26</td>\n",
              "      <td>2.75</td>\n",
              "      <td>17850.0</td>\n",
              "      <td>United Kingdom</td>\n",
              "    </tr>\n",
              "    <tr>\n",
              "      <th>3</th>\n",
              "      <td>536365</td>\n",
              "      <td>84029G</td>\n",
              "      <td>KNITTED UNION FLAG HOT WATER BOTTLE</td>\n",
              "      <td>6</td>\n",
              "      <td>12/1/2010 8:26</td>\n",
              "      <td>3.39</td>\n",
              "      <td>17850.0</td>\n",
              "      <td>United Kingdom</td>\n",
              "    </tr>\n",
              "    <tr>\n",
              "      <th>4</th>\n",
              "      <td>536365</td>\n",
              "      <td>84029E</td>\n",
              "      <td>RED WOOLLY HOTTIE WHITE HEART.</td>\n",
              "      <td>6</td>\n",
              "      <td>12/1/2010 8:26</td>\n",
              "      <td>3.39</td>\n",
              "      <td>17850.0</td>\n",
              "      <td>United Kingdom</td>\n",
              "    </tr>\n",
              "  </tbody>\n",
              "</table>\n",
              "</div>"
            ],
            "text/plain": [
              "  InvoiceNo StockCode                          Description  Quantity  \\\n",
              "0    536365    85123A   WHITE HANGING HEART T-LIGHT HOLDER         6   \n",
              "1    536365     71053                  WHITE METAL LANTERN         6   \n",
              "2    536365    84406B       CREAM CUPID HEARTS COAT HANGER         8   \n",
              "3    536365    84029G  KNITTED UNION FLAG HOT WATER BOTTLE         6   \n",
              "4    536365    84029E       RED WOOLLY HOTTIE WHITE HEART.         6   \n",
              "\n",
              "      InvoiceDate  UnitPrice  CustomerID         Country  \n",
              "0  12/1/2010 8:26       2.55     17850.0  United Kingdom  \n",
              "1  12/1/2010 8:26       3.39     17850.0  United Kingdom  \n",
              "2  12/1/2010 8:26       2.75     17850.0  United Kingdom  \n",
              "3  12/1/2010 8:26       3.39     17850.0  United Kingdom  \n",
              "4  12/1/2010 8:26       3.39     17850.0  United Kingdom  "
            ]
          },
          "metadata": {
            "tags": []
          },
          "execution_count": 3
        }
      ]
    },
    {
      "cell_type": "markdown",
      "metadata": {
        "id": "L_vwubaV4sZv",
        "colab_type": "text"
      },
      "source": [
        "There are a small portion of Description recorded as NaN and nearly a quarter of CustomerID missing information, since we have such a great volume of data and this part of data is extremely hard to impute, we discard them."
      ]
    },
    {
      "cell_type": "code",
      "metadata": {
        "id": "1ZGKotLI4sZw",
        "colab_type": "code",
        "colab": {},
        "outputId": "dfdedcbc-65dc-4dd2-f9a9-db44ebfbef3d"
      },
      "source": [
        "df_NAN = df.isna().sum()\n",
        "df_NAN = df_NAN.to_frame()\n",
        "df_NAN.columns = ['Count']\n",
        "\n",
        "df_NAN_percentage = df.isna().sum()/len(df) * 100\n",
        "df_NAN_percentage = df_NAN_percentage.to_frame()\n",
        "df_NAN_percentage.columns = ['Percentage']\n",
        "\n",
        "df_NAN.merge(df_NAN_percentage, left_index=True, right_index=True)"
      ],
      "execution_count": 0,
      "outputs": [
        {
          "output_type": "execute_result",
          "data": {
            "text/html": [
              "<div>\n",
              "<style scoped>\n",
              "    .dataframe tbody tr th:only-of-type {\n",
              "        vertical-align: middle;\n",
              "    }\n",
              "\n",
              "    .dataframe tbody tr th {\n",
              "        vertical-align: top;\n",
              "    }\n",
              "\n",
              "    .dataframe thead th {\n",
              "        text-align: right;\n",
              "    }\n",
              "</style>\n",
              "<table border=\"1\" class=\"dataframe\">\n",
              "  <thead>\n",
              "    <tr style=\"text-align: right;\">\n",
              "      <th></th>\n",
              "      <th>Count</th>\n",
              "      <th>Percentage</th>\n",
              "    </tr>\n",
              "  </thead>\n",
              "  <tbody>\n",
              "    <tr>\n",
              "      <th>InvoiceNo</th>\n",
              "      <td>0</td>\n",
              "      <td>0.000000</td>\n",
              "    </tr>\n",
              "    <tr>\n",
              "      <th>StockCode</th>\n",
              "      <td>0</td>\n",
              "      <td>0.000000</td>\n",
              "    </tr>\n",
              "    <tr>\n",
              "      <th>Description</th>\n",
              "      <td>1454</td>\n",
              "      <td>0.268311</td>\n",
              "    </tr>\n",
              "    <tr>\n",
              "      <th>Quantity</th>\n",
              "      <td>0</td>\n",
              "      <td>0.000000</td>\n",
              "    </tr>\n",
              "    <tr>\n",
              "      <th>InvoiceDate</th>\n",
              "      <td>0</td>\n",
              "      <td>0.000000</td>\n",
              "    </tr>\n",
              "    <tr>\n",
              "      <th>UnitPrice</th>\n",
              "      <td>0</td>\n",
              "      <td>0.000000</td>\n",
              "    </tr>\n",
              "    <tr>\n",
              "      <th>CustomerID</th>\n",
              "      <td>135080</td>\n",
              "      <td>24.926694</td>\n",
              "    </tr>\n",
              "    <tr>\n",
              "      <th>Country</th>\n",
              "      <td>0</td>\n",
              "      <td>0.000000</td>\n",
              "    </tr>\n",
              "  </tbody>\n",
              "</table>\n",
              "</div>"
            ],
            "text/plain": [
              "              Count  Percentage\n",
              "InvoiceNo         0    0.000000\n",
              "StockCode         0    0.000000\n",
              "Description    1454    0.268311\n",
              "Quantity          0    0.000000\n",
              "InvoiceDate       0    0.000000\n",
              "UnitPrice         0    0.000000\n",
              "CustomerID   135080   24.926694\n",
              "Country           0    0.000000"
            ]
          },
          "metadata": {
            "tags": []
          },
          "execution_count": 4
        }
      ]
    },
    {
      "cell_type": "code",
      "metadata": {
        "id": "WuHPuD0H4sZy",
        "colab_type": "code",
        "colab": {},
        "outputId": "a0d903a0-3ba9-436b-eba8-7575d23f11cd"
      },
      "source": [
        "#Discard records without Description and CustomerID\n",
        "df = df.dropna(subset=['Description', 'CustomerID'])\n",
        "df.shape"
      ],
      "execution_count": 0,
      "outputs": [
        {
          "output_type": "execute_result",
          "data": {
            "text/plain": [
              "(406829, 8)"
            ]
          },
          "metadata": {
            "tags": []
          },
          "execution_count": 5
        }
      ]
    },
    {
      "cell_type": "code",
      "metadata": {
        "id": "AlEza2nP4sZ1",
        "colab_type": "code",
        "colab": {},
        "outputId": "204788eb-30d6-41a3-ed2a-a1597821eae7"
      },
      "source": [
        "df.dtypes"
      ],
      "execution_count": 0,
      "outputs": [
        {
          "output_type": "execute_result",
          "data": {
            "text/plain": [
              "InvoiceNo       object\n",
              "StockCode       object\n",
              "Description     object\n",
              "Quantity         int64\n",
              "InvoiceDate     object\n",
              "UnitPrice      float64\n",
              "CustomerID     float64\n",
              "Country         object\n",
              "dtype: object"
            ]
          },
          "metadata": {
            "tags": []
          },
          "execution_count": 6
        }
      ]
    },
    {
      "cell_type": "markdown",
      "metadata": {
        "id": "DJmSPLVs4sZ3",
        "colab_type": "text"
      },
      "source": [
        "Transform datatype of 'CustomerID' into str, since it only represents the identity code of a unique customer; transform 'InvoiceDate' into datetime."
      ]
    },
    {
      "cell_type": "code",
      "metadata": {
        "id": "Yk70jEw24sZ3",
        "colab_type": "code",
        "colab": {},
        "outputId": "008c0c51-995f-45ca-d1fc-bc181915055a"
      },
      "source": [
        "df['CustomerID'] = df['CustomerID'].astype(int).astype(str)\n",
        "df['InvoiceDate'] = pd.to_datetime(df['InvoiceDate'])\n",
        "df.dtypes"
      ],
      "execution_count": 0,
      "outputs": [
        {
          "output_type": "execute_result",
          "data": {
            "text/plain": [
              "InvoiceNo              object\n",
              "StockCode              object\n",
              "Description            object\n",
              "Quantity                int64\n",
              "InvoiceDate    datetime64[ns]\n",
              "UnitPrice             float64\n",
              "CustomerID             object\n",
              "Country                object\n",
              "dtype: object"
            ]
          },
          "metadata": {
            "tags": []
          },
          "execution_count": 9
        }
      ]
    },
    {
      "cell_type": "code",
      "metadata": {
        "id": "EVsTpbjB4sZ5",
        "colab_type": "code",
        "colab": {},
        "outputId": "be6cd532-ce75-4a82-bf51-4e5cbbf23d6d"
      },
      "source": [
        "df_NAN = df.isna().sum()\n",
        "df_NAN = df_NAN.to_frame()\n",
        "df_NAN.columns = ['Count']\n",
        "\n",
        "df_NAN_percentage = df.isna().sum()/len(df) * 100\n",
        "df_NAN_percentage = df_NAN_percentage.to_frame()\n",
        "df_NAN_percentage.columns = ['Percentage']\n",
        "\n",
        "df_NAN.merge(df_NAN_percentage, left_index=True, right_index=True)"
      ],
      "execution_count": 0,
      "outputs": [
        {
          "output_type": "execute_result",
          "data": {
            "text/html": [
              "<div>\n",
              "<style scoped>\n",
              "    .dataframe tbody tr th:only-of-type {\n",
              "        vertical-align: middle;\n",
              "    }\n",
              "\n",
              "    .dataframe tbody tr th {\n",
              "        vertical-align: top;\n",
              "    }\n",
              "\n",
              "    .dataframe thead th {\n",
              "        text-align: right;\n",
              "    }\n",
              "</style>\n",
              "<table border=\"1\" class=\"dataframe\">\n",
              "  <thead>\n",
              "    <tr style=\"text-align: right;\">\n",
              "      <th></th>\n",
              "      <th>Count</th>\n",
              "      <th>Percentage</th>\n",
              "    </tr>\n",
              "  </thead>\n",
              "  <tbody>\n",
              "    <tr>\n",
              "      <th>InvoiceNo</th>\n",
              "      <td>0</td>\n",
              "      <td>0.0</td>\n",
              "    </tr>\n",
              "    <tr>\n",
              "      <th>StockCode</th>\n",
              "      <td>0</td>\n",
              "      <td>0.0</td>\n",
              "    </tr>\n",
              "    <tr>\n",
              "      <th>Description</th>\n",
              "      <td>0</td>\n",
              "      <td>0.0</td>\n",
              "    </tr>\n",
              "    <tr>\n",
              "      <th>Quantity</th>\n",
              "      <td>0</td>\n",
              "      <td>0.0</td>\n",
              "    </tr>\n",
              "    <tr>\n",
              "      <th>InvoiceDate</th>\n",
              "      <td>0</td>\n",
              "      <td>0.0</td>\n",
              "    </tr>\n",
              "    <tr>\n",
              "      <th>UnitPrice</th>\n",
              "      <td>0</td>\n",
              "      <td>0.0</td>\n",
              "    </tr>\n",
              "    <tr>\n",
              "      <th>CustomerID</th>\n",
              "      <td>0</td>\n",
              "      <td>0.0</td>\n",
              "    </tr>\n",
              "    <tr>\n",
              "      <th>Country</th>\n",
              "      <td>0</td>\n",
              "      <td>0.0</td>\n",
              "    </tr>\n",
              "  </tbody>\n",
              "</table>\n",
              "</div>"
            ],
            "text/plain": [
              "             Count  Percentage\n",
              "InvoiceNo        0         0.0\n",
              "StockCode        0         0.0\n",
              "Description      0         0.0\n",
              "Quantity         0         0.0\n",
              "InvoiceDate      0         0.0\n",
              "UnitPrice        0         0.0\n",
              "CustomerID       0         0.0\n",
              "Country          0         0.0"
            ]
          },
          "metadata": {
            "tags": []
          },
          "execution_count": 11
        }
      ]
    },
    {
      "cell_type": "markdown",
      "metadata": {
        "id": "KmMXjIj_4sZ7",
        "colab_type": "text"
      },
      "source": [
        "After dropping useless rows, there still leaves over 400k records, then we find the duplicate records and further reduce the data volume. "
      ]
    },
    {
      "cell_type": "code",
      "metadata": {
        "id": "yNsRcArn4sZ8",
        "colab_type": "code",
        "colab": {},
        "outputId": "9fd8a50b-9114-4038-8efd-a8231abbba90"
      },
      "source": [
        "df.duplicated().sum()"
      ],
      "execution_count": 0,
      "outputs": [
        {
          "output_type": "execute_result",
          "data": {
            "text/plain": [
              "5225"
            ]
          },
          "metadata": {
            "tags": []
          },
          "execution_count": 12
        }
      ]
    },
    {
      "cell_type": "code",
      "metadata": {
        "id": "nNTidqBJ4sZ-",
        "colab_type": "code",
        "colab": {},
        "outputId": "afc61b8b-94ad-4e3d-9e60-0c7c3069d0e2"
      },
      "source": [
        "df = df.drop_duplicates()\n",
        "df.shape"
      ],
      "execution_count": 0,
      "outputs": [
        {
          "output_type": "execute_result",
          "data": {
            "text/plain": [
              "(401604, 8)"
            ]
          },
          "metadata": {
            "tags": []
          },
          "execution_count": 13
        }
      ]
    },
    {
      "cell_type": "markdown",
      "metadata": {
        "id": "0_wjD94X4saA",
        "colab_type": "text"
      },
      "source": [
        "## Exploratory Data Analysis"
      ]
    },
    {
      "cell_type": "markdown",
      "metadata": {
        "id": "FoJxb_U_4saA",
        "colab_type": "text"
      },
      "source": [
        "It is werid that there is negative value for 'Quantity', the common patern for these negative rows is a prefix 'C' of their 'InvoiceNo', which represents 'Cancelation'. Some of rows have corresponding transactions of which the 'Quantity' is exactly the absolute value, we discard both rows as it will not reflect the willingness to purchase; while some are without corresponding purchasing records, probably because the purchase was done before 01/12/2009."
      ]
    },
    {
      "cell_type": "code",
      "metadata": {
        "id": "1oCUf9Vy4saA",
        "colab_type": "code",
        "colab": {},
        "outputId": "02e7ed77-c36b-45a0-d46f-5a4dc0d08394"
      },
      "source": [
        "df.describe(include='all')"
      ],
      "execution_count": 0,
      "outputs": [
        {
          "output_type": "execute_result",
          "data": {
            "text/html": [
              "<div>\n",
              "<style scoped>\n",
              "    .dataframe tbody tr th:only-of-type {\n",
              "        vertical-align: middle;\n",
              "    }\n",
              "\n",
              "    .dataframe tbody tr th {\n",
              "        vertical-align: top;\n",
              "    }\n",
              "\n",
              "    .dataframe thead th {\n",
              "        text-align: right;\n",
              "    }\n",
              "</style>\n",
              "<table border=\"1\" class=\"dataframe\">\n",
              "  <thead>\n",
              "    <tr style=\"text-align: right;\">\n",
              "      <th></th>\n",
              "      <th>InvoiceNo</th>\n",
              "      <th>StockCode</th>\n",
              "      <th>Description</th>\n",
              "      <th>Quantity</th>\n",
              "      <th>InvoiceDate</th>\n",
              "      <th>UnitPrice</th>\n",
              "      <th>CustomerID</th>\n",
              "      <th>Country</th>\n",
              "    </tr>\n",
              "  </thead>\n",
              "  <tbody>\n",
              "    <tr>\n",
              "      <th>count</th>\n",
              "      <td>401604</td>\n",
              "      <td>401604</td>\n",
              "      <td>401604</td>\n",
              "      <td>401604.000000</td>\n",
              "      <td>401604</td>\n",
              "      <td>401604.000000</td>\n",
              "      <td>401604</td>\n",
              "      <td>401604</td>\n",
              "    </tr>\n",
              "    <tr>\n",
              "      <th>unique</th>\n",
              "      <td>22190</td>\n",
              "      <td>3684</td>\n",
              "      <td>3896</td>\n",
              "      <td>NaN</td>\n",
              "      <td>20460</td>\n",
              "      <td>NaN</td>\n",
              "      <td>4372</td>\n",
              "      <td>37</td>\n",
              "    </tr>\n",
              "    <tr>\n",
              "      <th>top</th>\n",
              "      <td>576339</td>\n",
              "      <td>85123A</td>\n",
              "      <td>WHITE HANGING HEART T-LIGHT HOLDER</td>\n",
              "      <td>NaN</td>\n",
              "      <td>2011-11-14 15:27:00</td>\n",
              "      <td>NaN</td>\n",
              "      <td>17841</td>\n",
              "      <td>United Kingdom</td>\n",
              "    </tr>\n",
              "    <tr>\n",
              "      <th>freq</th>\n",
              "      <td>542</td>\n",
              "      <td>2065</td>\n",
              "      <td>2058</td>\n",
              "      <td>NaN</td>\n",
              "      <td>543</td>\n",
              "      <td>NaN</td>\n",
              "      <td>7812</td>\n",
              "      <td>356728</td>\n",
              "    </tr>\n",
              "    <tr>\n",
              "      <th>first</th>\n",
              "      <td>NaN</td>\n",
              "      <td>NaN</td>\n",
              "      <td>NaN</td>\n",
              "      <td>NaN</td>\n",
              "      <td>2010-12-01 08:26:00</td>\n",
              "      <td>NaN</td>\n",
              "      <td>NaN</td>\n",
              "      <td>NaN</td>\n",
              "    </tr>\n",
              "    <tr>\n",
              "      <th>last</th>\n",
              "      <td>NaN</td>\n",
              "      <td>NaN</td>\n",
              "      <td>NaN</td>\n",
              "      <td>NaN</td>\n",
              "      <td>2011-12-09 12:50:00</td>\n",
              "      <td>NaN</td>\n",
              "      <td>NaN</td>\n",
              "      <td>NaN</td>\n",
              "    </tr>\n",
              "    <tr>\n",
              "      <th>mean</th>\n",
              "      <td>NaN</td>\n",
              "      <td>NaN</td>\n",
              "      <td>NaN</td>\n",
              "      <td>12.183273</td>\n",
              "      <td>NaN</td>\n",
              "      <td>3.474064</td>\n",
              "      <td>NaN</td>\n",
              "      <td>NaN</td>\n",
              "    </tr>\n",
              "    <tr>\n",
              "      <th>std</th>\n",
              "      <td>NaN</td>\n",
              "      <td>NaN</td>\n",
              "      <td>NaN</td>\n",
              "      <td>250.283037</td>\n",
              "      <td>NaN</td>\n",
              "      <td>69.764035</td>\n",
              "      <td>NaN</td>\n",
              "      <td>NaN</td>\n",
              "    </tr>\n",
              "    <tr>\n",
              "      <th>min</th>\n",
              "      <td>NaN</td>\n",
              "      <td>NaN</td>\n",
              "      <td>NaN</td>\n",
              "      <td>-80995.000000</td>\n",
              "      <td>NaN</td>\n",
              "      <td>0.000000</td>\n",
              "      <td>NaN</td>\n",
              "      <td>NaN</td>\n",
              "    </tr>\n",
              "    <tr>\n",
              "      <th>25%</th>\n",
              "      <td>NaN</td>\n",
              "      <td>NaN</td>\n",
              "      <td>NaN</td>\n",
              "      <td>2.000000</td>\n",
              "      <td>NaN</td>\n",
              "      <td>1.250000</td>\n",
              "      <td>NaN</td>\n",
              "      <td>NaN</td>\n",
              "    </tr>\n",
              "    <tr>\n",
              "      <th>50%</th>\n",
              "      <td>NaN</td>\n",
              "      <td>NaN</td>\n",
              "      <td>NaN</td>\n",
              "      <td>5.000000</td>\n",
              "      <td>NaN</td>\n",
              "      <td>1.950000</td>\n",
              "      <td>NaN</td>\n",
              "      <td>NaN</td>\n",
              "    </tr>\n",
              "    <tr>\n",
              "      <th>75%</th>\n",
              "      <td>NaN</td>\n",
              "      <td>NaN</td>\n",
              "      <td>NaN</td>\n",
              "      <td>12.000000</td>\n",
              "      <td>NaN</td>\n",
              "      <td>3.750000</td>\n",
              "      <td>NaN</td>\n",
              "      <td>NaN</td>\n",
              "    </tr>\n",
              "    <tr>\n",
              "      <th>max</th>\n",
              "      <td>NaN</td>\n",
              "      <td>NaN</td>\n",
              "      <td>NaN</td>\n",
              "      <td>80995.000000</td>\n",
              "      <td>NaN</td>\n",
              "      <td>38970.000000</td>\n",
              "      <td>NaN</td>\n",
              "      <td>NaN</td>\n",
              "    </tr>\n",
              "  </tbody>\n",
              "</table>\n",
              "</div>"
            ],
            "text/plain": [
              "       InvoiceNo StockCode                         Description       Quantity  \\\n",
              "count     401604    401604                              401604  401604.000000   \n",
              "unique     22190      3684                                3896            NaN   \n",
              "top       576339    85123A  WHITE HANGING HEART T-LIGHT HOLDER            NaN   \n",
              "freq         542      2065                                2058            NaN   \n",
              "first        NaN       NaN                                 NaN            NaN   \n",
              "last         NaN       NaN                                 NaN            NaN   \n",
              "mean         NaN       NaN                                 NaN      12.183273   \n",
              "std          NaN       NaN                                 NaN     250.283037   \n",
              "min          NaN       NaN                                 NaN  -80995.000000   \n",
              "25%          NaN       NaN                                 NaN       2.000000   \n",
              "50%          NaN       NaN                                 NaN       5.000000   \n",
              "75%          NaN       NaN                                 NaN      12.000000   \n",
              "max          NaN       NaN                                 NaN   80995.000000   \n",
              "\n",
              "                InvoiceDate      UnitPrice CustomerID         Country  \n",
              "count                401604  401604.000000     401604          401604  \n",
              "unique                20460            NaN       4372              37  \n",
              "top     2011-11-14 15:27:00            NaN      17841  United Kingdom  \n",
              "freq                    543            NaN       7812          356728  \n",
              "first   2010-12-01 08:26:00            NaN        NaN             NaN  \n",
              "last    2011-12-09 12:50:00            NaN        NaN             NaN  \n",
              "mean                    NaN       3.474064        NaN             NaN  \n",
              "std                     NaN      69.764035        NaN             NaN  \n",
              "min                     NaN       0.000000        NaN             NaN  \n",
              "25%                     NaN       1.250000        NaN             NaN  \n",
              "50%                     NaN       1.950000        NaN             NaN  \n",
              "75%                     NaN       3.750000        NaN             NaN  \n",
              "max                     NaN   38970.000000        NaN             NaN  "
            ]
          },
          "metadata": {
            "tags": []
          },
          "execution_count": 14
        }
      ]
    },
    {
      "cell_type": "code",
      "metadata": {
        "id": "QI-Y4dJ34saC",
        "colab_type": "code",
        "colab": {}
      },
      "source": [
        "InvoiceNo = df.groupby(by=['CustomerID'], as_index=False)['InvoiceNo'].count()\n",
        "plt.plot(InvoiceNo['CustomerID'], InvoiceNo['InvoiceNo'])\n",
        "plt.show()"
      ],
      "execution_count": 0,
      "outputs": []
    },
    {
      "cell_type": "code",
      "metadata": {
        "id": "MI2mwm3E4saD",
        "colab_type": "code",
        "colab": {},
        "outputId": "37323058-59a6-4a3a-b9d0-15607b1b6570"
      },
      "source": [
        "#Select attributes 'InvoiceNo', 'StockCode', 'Quantity', 'InvoiceDate' and 'CustomerID' for comparison with purchase records\n",
        "df_cancel = df[df['Quantity'] < 0][['InvoiceNo', 'StockCode', 'Quantity', 'InvoiceDate', 'CustomerID']]\n",
        "df_cancel"
      ],
      "execution_count": 0,
      "outputs": [
        {
          "output_type": "execute_result",
          "data": {
            "text/html": [
              "<div>\n",
              "<style scoped>\n",
              "    .dataframe tbody tr th:only-of-type {\n",
              "        vertical-align: middle;\n",
              "    }\n",
              "\n",
              "    .dataframe tbody tr th {\n",
              "        vertical-align: top;\n",
              "    }\n",
              "\n",
              "    .dataframe thead th {\n",
              "        text-align: right;\n",
              "    }\n",
              "</style>\n",
              "<table border=\"1\" class=\"dataframe\">\n",
              "  <thead>\n",
              "    <tr style=\"text-align: right;\">\n",
              "      <th></th>\n",
              "      <th>InvoiceNo</th>\n",
              "      <th>StockCode</th>\n",
              "      <th>Quantity</th>\n",
              "      <th>InvoiceDate</th>\n",
              "      <th>CustomerID</th>\n",
              "    </tr>\n",
              "  </thead>\n",
              "  <tbody>\n",
              "    <tr>\n",
              "      <th>141</th>\n",
              "      <td>C536379</td>\n",
              "      <td>D</td>\n",
              "      <td>-1</td>\n",
              "      <td>2010-12-01 09:41:00</td>\n",
              "      <td>14527.0</td>\n",
              "    </tr>\n",
              "    <tr>\n",
              "      <th>154</th>\n",
              "      <td>C536383</td>\n",
              "      <td>35004C</td>\n",
              "      <td>-1</td>\n",
              "      <td>2010-12-01 09:49:00</td>\n",
              "      <td>15311.0</td>\n",
              "    </tr>\n",
              "    <tr>\n",
              "      <th>235</th>\n",
              "      <td>C536391</td>\n",
              "      <td>22556</td>\n",
              "      <td>-12</td>\n",
              "      <td>2010-12-01 10:24:00</td>\n",
              "      <td>17548.0</td>\n",
              "    </tr>\n",
              "    <tr>\n",
              "      <th>236</th>\n",
              "      <td>C536391</td>\n",
              "      <td>21984</td>\n",
              "      <td>-24</td>\n",
              "      <td>2010-12-01 10:24:00</td>\n",
              "      <td>17548.0</td>\n",
              "    </tr>\n",
              "    <tr>\n",
              "      <th>237</th>\n",
              "      <td>C536391</td>\n",
              "      <td>21983</td>\n",
              "      <td>-24</td>\n",
              "      <td>2010-12-01 10:24:00</td>\n",
              "      <td>17548.0</td>\n",
              "    </tr>\n",
              "    <tr>\n",
              "      <th>...</th>\n",
              "      <td>...</td>\n",
              "      <td>...</td>\n",
              "      <td>...</td>\n",
              "      <td>...</td>\n",
              "      <td>...</td>\n",
              "    </tr>\n",
              "    <tr>\n",
              "      <th>540449</th>\n",
              "      <td>C581490</td>\n",
              "      <td>23144</td>\n",
              "      <td>-11</td>\n",
              "      <td>2011-12-09 09:57:00</td>\n",
              "      <td>14397.0</td>\n",
              "    </tr>\n",
              "    <tr>\n",
              "      <th>541541</th>\n",
              "      <td>C581499</td>\n",
              "      <td>M</td>\n",
              "      <td>-1</td>\n",
              "      <td>2011-12-09 10:28:00</td>\n",
              "      <td>15498.0</td>\n",
              "    </tr>\n",
              "    <tr>\n",
              "      <th>541715</th>\n",
              "      <td>C581568</td>\n",
              "      <td>21258</td>\n",
              "      <td>-5</td>\n",
              "      <td>2011-12-09 11:57:00</td>\n",
              "      <td>15311.0</td>\n",
              "    </tr>\n",
              "    <tr>\n",
              "      <th>541716</th>\n",
              "      <td>C581569</td>\n",
              "      <td>84978</td>\n",
              "      <td>-1</td>\n",
              "      <td>2011-12-09 11:58:00</td>\n",
              "      <td>17315.0</td>\n",
              "    </tr>\n",
              "    <tr>\n",
              "      <th>541717</th>\n",
              "      <td>C581569</td>\n",
              "      <td>20979</td>\n",
              "      <td>-5</td>\n",
              "      <td>2011-12-09 11:58:00</td>\n",
              "      <td>17315.0</td>\n",
              "    </tr>\n",
              "  </tbody>\n",
              "</table>\n",
              "<p>8872 rows × 5 columns</p>\n",
              "</div>"
            ],
            "text/plain": [
              "       InvoiceNo StockCode  Quantity         InvoiceDate CustomerID\n",
              "141      C536379         D        -1 2010-12-01 09:41:00    14527.0\n",
              "154      C536383    35004C        -1 2010-12-01 09:49:00    15311.0\n",
              "235      C536391     22556       -12 2010-12-01 10:24:00    17548.0\n",
              "236      C536391     21984       -24 2010-12-01 10:24:00    17548.0\n",
              "237      C536391     21983       -24 2010-12-01 10:24:00    17548.0\n",
              "...          ...       ...       ...                 ...        ...\n",
              "540449   C581490     23144       -11 2011-12-09 09:57:00    14397.0\n",
              "541541   C581499         M        -1 2011-12-09 10:28:00    15498.0\n",
              "541715   C581568     21258        -5 2011-12-09 11:57:00    15311.0\n",
              "541716   C581569     84978        -1 2011-12-09 11:58:00    17315.0\n",
              "541717   C581569     20979        -5 2011-12-09 11:58:00    17315.0\n",
              "\n",
              "[8872 rows x 5 columns]"
            ]
          },
          "metadata": {
            "tags": []
          },
          "execution_count": 12
        }
      ]
    },
    {
      "cell_type": "code",
      "metadata": {
        "id": "yyG4hgqu4saF",
        "colab_type": "code",
        "colab": {}
      },
      "source": [
        ""
      ],
      "execution_count": 0,
      "outputs": []
    },
    {
      "cell_type": "code",
      "metadata": {
        "id": "-wJqm0Ic4saG",
        "colab_type": "code",
        "colab": {}
      },
      "source": [
        "A = [] #Cancelation with corresponding purchase record\n",
        "B = [] #Cancelation without corresponding purchase record\n",
        "index_cor = [] #Index of corresponding records\n",
        "for index, attributes in df_cancel.iterrows():\n",
        "    df_cor = df[(df['StockCode'] == attributes[1]) & (df['Quantity'] == -attributes[2]) & (df['CustomerID'] == attributes[3])]\n",
        "    if df_cor.shape[0] == 0:\n",
        "        B.append(index)\n",
        "    else:\n",
        "        A.append(index)\n",
        "        index_cor.append(df_cor.index)"
      ],
      "execution_count": 0,
      "outputs": []
    },
    {
      "cell_type": "code",
      "metadata": {
        "id": "9A3ZpPVO4saH",
        "colab_type": "code",
        "colab": {},
        "outputId": "ec56d19b-5372-4a8a-c6ba-c6f5f6dc417b"
      },
      "source": [
        "print('Cancelation with corresponding purchase record: {}'.format(len(A)))\n",
        "print('Index of corresponding records: {}'.format(len(index_cor)))\n",
        "print('Cancelation without corresponding purchase record: {}'.format(len(B)))"
      ],
      "execution_count": 0,
      "outputs": [
        {
          "output_type": "stream",
          "text": [
            "Cancelation with corresponding purchase record: 0\n",
            "Index of corresponding records: 0\n",
            "Cancelation without corresponding purchase record: 8872\n"
          ],
          "name": "stdout"
        }
      ]
    },
    {
      "cell_type": "code",
      "metadata": {
        "id": "kfrech_a4saJ",
        "colab_type": "code",
        "colab": {},
        "outputId": "b12e7209-b1d2-4d01-def3-073240f19c7a"
      },
      "source": [
        "#Delete cancelation records\n",
        "df = df[~df.index.isin(A)]\n",
        "df = df[~df.index.isin(B)]\n",
        "df.shape"
      ],
      "execution_count": 0,
      "outputs": [
        {
          "output_type": "execute_result",
          "data": {
            "text/plain": [
              "(392732, 8)"
            ]
          },
          "metadata": {
            "tags": []
          },
          "execution_count": 22
        }
      ]
    },
    {
      "cell_type": "code",
      "metadata": {
        "id": "xyi1EVpd4saL",
        "colab_type": "code",
        "colab": {},
        "outputId": "ecaa4810-25b8-42bf-b997-b6bff80dc7cc"
      },
      "source": [
        "df.describe(include='all')"
      ],
      "execution_count": 0,
      "outputs": [
        {
          "output_type": "execute_result",
          "data": {
            "text/html": [
              "<div>\n",
              "<style scoped>\n",
              "    .dataframe tbody tr th:only-of-type {\n",
              "        vertical-align: middle;\n",
              "    }\n",
              "\n",
              "    .dataframe tbody tr th {\n",
              "        vertical-align: top;\n",
              "    }\n",
              "\n",
              "    .dataframe thead th {\n",
              "        text-align: right;\n",
              "    }\n",
              "</style>\n",
              "<table border=\"1\" class=\"dataframe\">\n",
              "  <thead>\n",
              "    <tr style=\"text-align: right;\">\n",
              "      <th></th>\n",
              "      <th>InvoiceNo</th>\n",
              "      <th>StockCode</th>\n",
              "      <th>Description</th>\n",
              "      <th>Quantity</th>\n",
              "      <th>InvoiceDate</th>\n",
              "      <th>UnitPrice</th>\n",
              "      <th>CustomerID</th>\n",
              "      <th>Country</th>\n",
              "    </tr>\n",
              "  </thead>\n",
              "  <tbody>\n",
              "    <tr>\n",
              "      <th>count</th>\n",
              "      <td>392732</td>\n",
              "      <td>392732</td>\n",
              "      <td>392732</td>\n",
              "      <td>392732.000000</td>\n",
              "      <td>392732</td>\n",
              "      <td>392732.000000</td>\n",
              "      <td>392732</td>\n",
              "      <td>392732</td>\n",
              "    </tr>\n",
              "    <tr>\n",
              "      <th>unique</th>\n",
              "      <td>18536</td>\n",
              "      <td>3665</td>\n",
              "      <td>3877</td>\n",
              "      <td>NaN</td>\n",
              "      <td>17286</td>\n",
              "      <td>NaN</td>\n",
              "      <td>4339</td>\n",
              "      <td>37</td>\n",
              "    </tr>\n",
              "    <tr>\n",
              "      <th>top</th>\n",
              "      <td>576339</td>\n",
              "      <td>85123A</td>\n",
              "      <td>WHITE HANGING HEART T-LIGHT HOLDER</td>\n",
              "      <td>NaN</td>\n",
              "      <td>2011-11-14 15:27:00</td>\n",
              "      <td>NaN</td>\n",
              "      <td>17841.0</td>\n",
              "      <td>United Kingdom</td>\n",
              "    </tr>\n",
              "    <tr>\n",
              "      <th>freq</th>\n",
              "      <td>542</td>\n",
              "      <td>2023</td>\n",
              "      <td>2016</td>\n",
              "      <td>NaN</td>\n",
              "      <td>542</td>\n",
              "      <td>NaN</td>\n",
              "      <td>7676</td>\n",
              "      <td>349227</td>\n",
              "    </tr>\n",
              "    <tr>\n",
              "      <th>first</th>\n",
              "      <td>NaN</td>\n",
              "      <td>NaN</td>\n",
              "      <td>NaN</td>\n",
              "      <td>NaN</td>\n",
              "      <td>2010-12-01 08:26:00</td>\n",
              "      <td>NaN</td>\n",
              "      <td>NaN</td>\n",
              "      <td>NaN</td>\n",
              "    </tr>\n",
              "    <tr>\n",
              "      <th>last</th>\n",
              "      <td>NaN</td>\n",
              "      <td>NaN</td>\n",
              "      <td>NaN</td>\n",
              "      <td>NaN</td>\n",
              "      <td>2011-12-09 12:50:00</td>\n",
              "      <td>NaN</td>\n",
              "      <td>NaN</td>\n",
              "      <td>NaN</td>\n",
              "    </tr>\n",
              "    <tr>\n",
              "      <th>mean</th>\n",
              "      <td>NaN</td>\n",
              "      <td>NaN</td>\n",
              "      <td>NaN</td>\n",
              "      <td>13.153718</td>\n",
              "      <td>NaN</td>\n",
              "      <td>3.125596</td>\n",
              "      <td>NaN</td>\n",
              "      <td>NaN</td>\n",
              "    </tr>\n",
              "    <tr>\n",
              "      <th>std</th>\n",
              "      <td>NaN</td>\n",
              "      <td>NaN</td>\n",
              "      <td>NaN</td>\n",
              "      <td>181.588420</td>\n",
              "      <td>NaN</td>\n",
              "      <td>22.240725</td>\n",
              "      <td>NaN</td>\n",
              "      <td>NaN</td>\n",
              "    </tr>\n",
              "    <tr>\n",
              "      <th>min</th>\n",
              "      <td>NaN</td>\n",
              "      <td>NaN</td>\n",
              "      <td>NaN</td>\n",
              "      <td>1.000000</td>\n",
              "      <td>NaN</td>\n",
              "      <td>0.000000</td>\n",
              "      <td>NaN</td>\n",
              "      <td>NaN</td>\n",
              "    </tr>\n",
              "    <tr>\n",
              "      <th>25%</th>\n",
              "      <td>NaN</td>\n",
              "      <td>NaN</td>\n",
              "      <td>NaN</td>\n",
              "      <td>2.000000</td>\n",
              "      <td>NaN</td>\n",
              "      <td>1.250000</td>\n",
              "      <td>NaN</td>\n",
              "      <td>NaN</td>\n",
              "    </tr>\n",
              "    <tr>\n",
              "      <th>50%</th>\n",
              "      <td>NaN</td>\n",
              "      <td>NaN</td>\n",
              "      <td>NaN</td>\n",
              "      <td>6.000000</td>\n",
              "      <td>NaN</td>\n",
              "      <td>1.950000</td>\n",
              "      <td>NaN</td>\n",
              "      <td>NaN</td>\n",
              "    </tr>\n",
              "    <tr>\n",
              "      <th>75%</th>\n",
              "      <td>NaN</td>\n",
              "      <td>NaN</td>\n",
              "      <td>NaN</td>\n",
              "      <td>12.000000</td>\n",
              "      <td>NaN</td>\n",
              "      <td>3.750000</td>\n",
              "      <td>NaN</td>\n",
              "      <td>NaN</td>\n",
              "    </tr>\n",
              "    <tr>\n",
              "      <th>max</th>\n",
              "      <td>NaN</td>\n",
              "      <td>NaN</td>\n",
              "      <td>NaN</td>\n",
              "      <td>80995.000000</td>\n",
              "      <td>NaN</td>\n",
              "      <td>8142.750000</td>\n",
              "      <td>NaN</td>\n",
              "      <td>NaN</td>\n",
              "    </tr>\n",
              "  </tbody>\n",
              "</table>\n",
              "</div>"
            ],
            "text/plain": [
              "       InvoiceNo StockCode                         Description       Quantity  \\\n",
              "count     392732    392732                              392732  392732.000000   \n",
              "unique     18536      3665                                3877            NaN   \n",
              "top       576339    85123A  WHITE HANGING HEART T-LIGHT HOLDER            NaN   \n",
              "freq         542      2023                                2016            NaN   \n",
              "first        NaN       NaN                                 NaN            NaN   \n",
              "last         NaN       NaN                                 NaN            NaN   \n",
              "mean         NaN       NaN                                 NaN      13.153718   \n",
              "std          NaN       NaN                                 NaN     181.588420   \n",
              "min          NaN       NaN                                 NaN       1.000000   \n",
              "25%          NaN       NaN                                 NaN       2.000000   \n",
              "50%          NaN       NaN                                 NaN       6.000000   \n",
              "75%          NaN       NaN                                 NaN      12.000000   \n",
              "max          NaN       NaN                                 NaN   80995.000000   \n",
              "\n",
              "                InvoiceDate      UnitPrice CustomerID         Country  \n",
              "count                392732  392732.000000     392732          392732  \n",
              "unique                17286            NaN       4339              37  \n",
              "top     2011-11-14 15:27:00            NaN    17841.0  United Kingdom  \n",
              "freq                    542            NaN       7676          349227  \n",
              "first   2010-12-01 08:26:00            NaN        NaN             NaN  \n",
              "last    2011-12-09 12:50:00            NaN        NaN             NaN  \n",
              "mean                    NaN       3.125596        NaN             NaN  \n",
              "std                     NaN      22.240725        NaN             NaN  \n",
              "min                     NaN       0.000000        NaN             NaN  \n",
              "25%                     NaN       1.250000        NaN             NaN  \n",
              "50%                     NaN       1.950000        NaN             NaN  \n",
              "75%                     NaN       3.750000        NaN             NaN  \n",
              "max                     NaN    8142.750000        NaN             NaN  "
            ]
          },
          "metadata": {
            "tags": []
          },
          "execution_count": 24
        }
      ]
    },
    {
      "cell_type": "code",
      "metadata": {
        "id": "attaP1CN4saN",
        "colab_type": "code",
        "colab": {},
        "outputId": "0ce8681e-95c6-42e1-b91d-31fcf3bbf4c5"
      },
      "source": [
        "print('Number of transactions: {}'.format(len(df['InvoiceNo'].value_counts())))\n",
        "print('Number of products: {}'.format(len(df['StockCode'].value_counts())))\n",
        "print('Number of customers: {}'.format(len(df['CustomerID'].value_counts())))"
      ],
      "execution_count": 0,
      "outputs": [
        {
          "output_type": "stream",
          "text": [
            "Number of transactions: 18536\n",
            "Number of products: 3665\n",
            "Number of customers: 4339\n"
          ],
          "name": "stdout"
        }
      ]
    },
    {
      "cell_type": "code",
      "metadata": {
        "id": "jpDZRU0P4saO",
        "colab_type": "code",
        "colab": {}
      },
      "source": [
        ""
      ],
      "execution_count": 0,
      "outputs": []
    }
  ]
}